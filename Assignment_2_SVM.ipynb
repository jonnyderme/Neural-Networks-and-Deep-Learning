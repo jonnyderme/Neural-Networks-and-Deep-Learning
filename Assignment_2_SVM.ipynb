{
  "nbformat": 4,
  "nbformat_minor": 0,
  "metadata": {
    "colab": {
      "provenance": [],
      "toc_visible": true,
      "include_colab_link": true
    },
    "kernelspec": {
      "name": "python3",
      "display_name": "Python 3"
    },
    "language_info": {
      "name": "python"
    }
  },
  "cells": [
    {
      "cell_type": "markdown",
      "metadata": {
        "id": "view-in-github",
        "colab_type": "text"
      },
      "source": [
        "<a href=\"https://colab.research.google.com/github/jonnyderme/Neural-Networks-and-Deep-Learning/blob/main/Assignment_2_SVM.ipynb\" target=\"_parent\"><img src=\"https://colab.research.google.com/assets/colab-badge.svg\" alt=\"Open In Colab\"/></a>"
      ]
    },
    {
      "cell_type": "markdown",
      "source": [
        "# **Import Libraries and Preprocessing of all datasets used**"
      ],
      "metadata": {
        "id": "STh-Lmwo8ZgE"
      }
    },
    {
      "cell_type": "code",
      "execution_count": null,
      "metadata": {
        "id": "a_sfrbY3LG4A",
        "colab": {
          "base_uri": "https://localhost:8080/"
        },
        "outputId": "d25ed67e-3ce9-46b5-af6a-ae5cf8f4bcde"
      },
      "outputs": [
        {
          "output_type": "stream",
          "name": "stdout",
          "text": [
            "Requirement already satisfied: cvxopt in /usr/local/lib/python3.10/dist-packages (1.3.2)\n"
          ]
        }
      ],
      "source": [
        "!pip install cvxopt\n"
      ]
    },
    {
      "cell_type": "code",
      "source": [
        "import tensorflow\n",
        "\n",
        "# Import CIFAR-10 dataset\n",
        "from tensorflow.keras.datasets import cifar10\n",
        "from tensorflow.keras import utils\n",
        "from tensorflow.keras import models,layers\n",
        "from tensorflow.keras import regularizers\n",
        "from tensorflow.keras import initializers\n",
        "import tensorflow.keras.backend as K\n",
        "\n",
        "from sklearn.feature_selection import SelectPercentile, chi2\n",
        "from sklearn.decomposition import PCA\n",
        "from sklearn.neighbors import KNeighborsClassifier, NearestCentroid\n",
        "from sklearn.metrics import confusion_matrix, ConfusionMatrixDisplay, classification_report\n",
        "from sklearn.metrics import f1_score\n",
        "from sklearn.utils import shuffle\n",
        "\n",
        "\n",
        "\n",
        "import numpy as np\n",
        "import time\n",
        "\n",
        "from matplotlib import pyplot as plt\n",
        "from sklearn.model_selection import StratifiedKFold\n",
        "from sklearn.metrics import accuracy_score, classification_report\n",
        "from sklearn.model_selection import train_test_split\n",
        "\n",
        "\n",
        "import numpy as np\n",
        "from numpy import linalg\n",
        "\n",
        "import pandas as pd\n",
        "\n",
        "import time\n",
        "import random as rnd\n",
        "\n",
        "from cvxopt import matrix, solvers"
      ],
      "metadata": {
        "id": "olL0q48IQVJo"
      },
      "execution_count": null,
      "outputs": []
    },
    {
      "cell_type": "code",
      "source": [
        "!pip3 install -U ucimlrepo"
      ],
      "metadata": {
        "colab": {
          "base_uri": "https://localhost:8080/"
        },
        "id": "ISnRSvGUm5rZ",
        "outputId": "04a75bec-8228-4350-e7b2-bca8bea08690"
      },
      "execution_count": null,
      "outputs": [
        {
          "output_type": "stream",
          "name": "stdout",
          "text": [
            "Requirement already satisfied: ucimlrepo in /usr/local/lib/python3.10/dist-packages (0.0.3)\n"
          ]
        }
      ]
    },
    {
      "cell_type": "markdown",
      "source": [
        "## **Load and Preprocess UCI-- Handwritten Digits Dataset**\n"
      ],
      "metadata": {
        "id": "dwxkznKi8rnu"
      }
    },
    {
      "cell_type": "code",
      "source": [
        "from ucimlrepo import fetch_ucirepo\n",
        "\n",
        "# fetch dataset\n",
        "optical_recognition_of_handwritten_digits = fetch_ucirepo(id=80)\n",
        "\n",
        "# data (as pandas dataframes)\n",
        "X = optical_recognition_of_handwritten_digits.data.features\n",
        "y = optical_recognition_of_handwritten_digits.data.targets\n",
        "\n",
        "# metadata\n",
        "print(optical_recognition_of_handwritten_digits.metadata)\n",
        "\n",
        "# variable information\n",
        "print(optical_recognition_of_handwritten_digits.variables)\n",
        "\n",
        "# Split the data into training and testing sets (adjust test_size and random_state as needed)\n",
        "XTrain, XTest, yTrain, yTest = train_test_split(X, y, test_size=0.2, random_state=42)\n",
        "\n",
        "unique, counts = np.unique(yTrain, return_counts=True)\n",
        "print(\"Training Labels: \", dict(zip(unique, counts)))\n",
        "unique, counts = np.unique(yTest, return_counts=True)\n",
        "print(\"Testing Labels: \", dict(zip(unique, counts)))\n",
        "\n",
        "# Get the number of features in the test set\n",
        "numFeatures = XTrain.shape[1]\n",
        "print(\"Number of features in Handwritten Digits:\", numFeatures)\n",
        "\n",
        "# Get the number of classes in the test set\n",
        "numClasses = 10\n",
        "print(\"Number of classes in Handwritten Digits:\", numClasses)\n",
        "\n",
        "\n",
        "print(\"Train set shape : \", XTrain.shape)\n",
        "print(\"Labels for the train set shape :\", yTrain.shape)\n",
        "print(\"Test set shape :\", XTest.shape)\n",
        "print(\"Labels for the test set shape :\", yTest.shape)\n",
        "\n",
        "#Convert to float32\n",
        "XTrain, XTest = np.array(XTrain, dtype=np.float32), np.array(XTest, dtype=np.float32)\n",
        "yTrain, yTest = np.array(yTrain, dtype=np.float32), np.array(yTest, dtype=np.float32)\n",
        "\n",
        "#Normalize to [0,1]\n",
        "XTrain = XTrain/XTrain.max()\n",
        "XTest =  XTest/XTest.max()\n",
        "\n",
        "# Change labels of training set: -1 for even numbers, 1 for odd numbers\n",
        "even = np.where(yTrain%2 == 0)\n",
        "odd = np.where(yTrain%2 == 1)\n",
        "yTrain[even] = -1\n",
        "yTrain[odd] = 1\n",
        "\n",
        "print(\"yTrain even shape:\", yTrain[even].shape)\n",
        "print(\"yTrain odd shape:\", yTrain[odd].shape)\n",
        "\n",
        "# Change labels of test set: -1 for even numbers, 1 for odd numbers\n",
        "even = np.where(yTest%2 == 0)\n",
        "odd = np.where(yTest%2 == 1)\n",
        "yTest[even] = -1\n",
        "yTest[odd] = 1"
      ],
      "metadata": {
        "colab": {
          "base_uri": "https://localhost:8080/"
        },
        "id": "p0a9NJx_mzIN",
        "outputId": "e8266cc2-5411-4b7b-af0c-1a88dbd9ea48"
      },
      "execution_count": null,
      "outputs": [
        {
          "output_type": "stream",
          "name": "stdout",
          "text": [
            "{'uci_id': 80, 'name': 'Optical Recognition of Handwritten Digits', 'repository_url': 'https://archive.ics.uci.edu/dataset/80/optical+recognition+of+handwritten+digits', 'data_url': 'https://archive.ics.uci.edu/static/public/80/data.csv', 'abstract': 'Two versions of this database available; see folder', 'area': 'Computer Science', 'tasks': ['Classification'], 'characteristics': ['Multivariate'], 'num_instances': 5620, 'num_features': 64, 'feature_types': ['Integer'], 'demographics': [], 'target_col': ['class'], 'index_col': None, 'has_missing_values': 'no', 'missing_values_symbol': None, 'year_of_dataset_creation': 1998, 'last_updated': 'Wed Aug 23 2023', 'dataset_doi': '10.24432/C50P49', 'creators': ['E. Alpaydin', 'C. Kaynak'], 'intro_paper': {'title': 'Methods of Combining Multiple Classifiers and Their Applications to Handwritten Digit Recognition', 'authors': 'C. Kaynak', 'published_in': 'MSc Thesis, Institute of Graduate Studies in Science and Engineering, Bogazici University', 'year': 1995, 'url': None, 'doi': None}, 'additional_info': {'summary': 'We used preprocessing programs made available by NIST to extract normalized bitmaps of handwritten digits from a preprinted form. From a total of 43 people, 30 contributed to the training set and different 13 to the test set. 32x32 bitmaps are divided into nonoverlapping blocks of 4x4 and the number of on pixels are counted in each block. This generates an input matrix of 8x8 where each element is an integer in the range 0..16. This reduces dimensionality and gives invariance to small distortions.\\r\\n\\r\\nFor info on NIST preprocessing routines, see M. D. Garris, J. L. Blue, G. T. Candela, D. L. Dimmick, J. Geist, P. J. Grother, S. A. Janet, and C. L. Wilson, NIST Form-Based Handprint Recognition System, NISTIR 5469, 1994.', 'purpose': None, 'funded_by': None, 'instances_represent': None, 'recommended_data_splits': None, 'sensitive_data': None, 'preprocessing_description': None, 'variable_info': 'All input attributes are integers in the range 0..16.\\r\\nThe last attribute is the class code 0..9', 'citation': None}}\n",
            "           name     role         type demographic description units  \\\n",
            "0    Attribute1  Feature      Integer        None        None  None   \n",
            "1    Attribute2  Feature      Integer        None        None  None   \n",
            "2    Attribute3  Feature      Integer        None        None  None   \n",
            "3    Attribute4  Feature      Integer        None        None  None   \n",
            "4    Attribute5  Feature      Integer        None        None  None   \n",
            "..          ...      ...          ...         ...         ...   ...   \n",
            "60  Attribute61  Feature      Integer        None        None  None   \n",
            "61  Attribute62  Feature      Integer        None        None  None   \n",
            "62  Attribute63  Feature      Integer        None        None  None   \n",
            "63  Attribute64  Feature      Integer        None        None  None   \n",
            "64        class   Target  Categorical        None        None  None   \n",
            "\n",
            "   missing_values  \n",
            "0              no  \n",
            "1              no  \n",
            "2              no  \n",
            "3              no  \n",
            "4              no  \n",
            "..            ...  \n",
            "60             no  \n",
            "61             no  \n",
            "62             no  \n",
            "63             no  \n",
            "64             no  \n",
            "\n",
            "[65 rows x 7 columns]\n",
            "Training Labels:  {0: 446, 1: 469, 2: 450, 3: 454, 4: 451, 5: 461, 6: 435, 7: 442, 8: 449, 9: 439}\n",
            "Testing Labels:  {0: 108, 1: 102, 2: 107, 3: 118, 4: 117, 5: 97, 6: 123, 7: 124, 8: 105, 9: 123}\n",
            "Number of features in Handwritten Digits: 64\n",
            "Number of classes in Handwritten Digits: 10\n",
            "Train set shape :  (4496, 64)\n",
            "Labels for the train set shape : (4496, 1)\n",
            "Test set shape : (1124, 64)\n",
            "Labels for the test set shape : (1124, 1)\n",
            "yTrain even shape: (2231,)\n",
            "yTrain odd shape: (2265,)\n"
          ]
        }
      ]
    },
    {
      "cell_type": "markdown",
      "source": [
        "## **Load and Preprocess Cifar10**"
      ],
      "metadata": {
        "id": "KSh9RKYD9X-y"
      }
    },
    {
      "cell_type": "code",
      "source": [
        "#Load data\n",
        "(XTrain, yTrain), (XTest, yTest) = cifar10.load_data()\n",
        "\n",
        "unique, counts = np.unique(yTrain, return_counts=True)\n",
        "print(\"Training Labels: \", dict(zip(unique, counts)))\n",
        "unique, counts = np.unique(yTest, return_counts=True)\n",
        "print(\"Testing Labels: \", dict(zip(unique, counts)))\n",
        "\n",
        "# Get the number of features in the test set\n",
        "numFeatures = XTrain.shape[1]*XTrain.shape[2]*XTrain.shape[3]\n",
        "print(\"Number of features in CIFAR-10:\", numFeatures)\n",
        "\n",
        "# Get the number of classes in the test set\n",
        "numClasses = len(set(yTest.flatten()))\n",
        "print(\"Number of classes in CIFAR-10:\", numClasses)\n",
        "\n",
        "\n",
        "print(\"Train set shape : \", XTrain.shape)\n",
        "print(\"Labels for the train set shape :\", yTrain.shape)\n",
        "print(\"Test set shape :\", XTest.shape)\n",
        "print(\"Labels for the test set shape :\", yTest.shape)\n",
        "\n",
        "#Convert to float32\n",
        "XTrain, XTest = np.array(XTrain, dtype=np.float32), np.array(XTest, dtype=np.float32)\n",
        "yTrain, yTest = np.array(yTrain, dtype=np.float32), np.array(yTest, dtype=np.float32)\n",
        "\n",
        "# Define the class names\n",
        "classNames = ['airplane', 'car', 'bird', 'cat', 'deer', 'dog', 'frog', 'horse', 'ship', 'truck']\n",
        "\n",
        "# Select indices for 'airplane' and 'automobile' classes\n",
        "classIndices = [classNames.index('car'), classNames.index('frog')]\n",
        "\n",
        "# Filter train and test data for selected classes\n",
        "trainMask = np.isin(yTrain, classIndices).flatten()\n",
        "testMask = np.isin(yTest, classIndices).flatten()\n",
        "\n",
        "XTrainFiltered = XTrain[trainMask]\n",
        "yTrainFiltered = yTrain[trainMask]\n",
        "\n",
        "XTestFiltered = XTest[testMask]\n",
        "yTestFiltered = yTest[testMask]\n",
        "\n",
        "# Reshape the images to 1D array\n",
        "XTrain = XTrainFiltered.reshape(\n",
        "    (XTrainFiltered.shape[0], -1))\n",
        "XTest = XTestFiltered.reshape(\n",
        "    (XTestFiltered.shape[0], -1))\n",
        "\n",
        "\n",
        "# Keep not normalized Train and Test set\n",
        "XTrainNotScaled = XTrain\n",
        "XTestNotScaled = XTest\n",
        "\n",
        "#Normalize to [0,1]\n",
        "XTrain = XTrain/XTrain.max()\n",
        "XTest =  XTest/XTest.max()\n",
        "\n",
        "yTrain = yTrainFiltered\n",
        "yTest = yTestFiltered\n",
        "\n",
        "# Display shapes of the new dataset\n",
        "print(\"New dataset images shape:\", XTrain.shape)\n",
        "print(\"New dataset labels shape:\", yTrain.shape)\n",
        "print(\"New dataset images shape:\", XTest.shape)\n",
        "print(\"New dataset labels shape:\", yTest.shape)\n",
        "\n",
        "ind1Train = np.where(yTrain==classIndices[0])\n",
        "ind2Train = np.where(yTrain==classIndices[1])\n",
        "yTrain[ind1Train] = -1\n",
        "yTrain[ind2Train] = 1\n",
        "\n",
        "\n",
        "ind1Test = np.where(yTest==classIndices[0])\n",
        "ind2Test = np.where(yTest==classIndices[1])\n",
        "yTest[ind1Test] = -1\n",
        "yTest[ind2Test] = 1"
      ],
      "metadata": {
        "colab": {
          "base_uri": "https://localhost:8080/"
        },
        "id": "FM_xIW2OQXxI",
        "outputId": "310a9bc0-dec1-4d44-8ef4-d932726dd6cd"
      },
      "execution_count": null,
      "outputs": [
        {
          "output_type": "stream",
          "name": "stdout",
          "text": [
            "Downloading data from https://www.cs.toronto.edu/~kriz/cifar-10-python.tar.gz\n",
            "170498071/170498071 [==============================] - 6s 0us/step\n",
            "Training Labels:  {0: 5000, 1: 5000, 2: 5000, 3: 5000, 4: 5000, 5: 5000, 6: 5000, 7: 5000, 8: 5000, 9: 5000}\n",
            "Testing Labels:  {0: 1000, 1: 1000, 2: 1000, 3: 1000, 4: 1000, 5: 1000, 6: 1000, 7: 1000, 8: 1000, 9: 1000}\n",
            "Number of features in CIFAR-10: 3072\n",
            "Number of classes in CIFAR-10: 10\n",
            "Train set shape :  (50000, 32, 32, 3)\n",
            "Labels for the train set shape : (50000, 1)\n",
            "Test set shape : (10000, 32, 32, 3)\n",
            "Labels for the test set shape : (10000, 1)\n",
            "New dataset images shape: (10000, 3072)\n",
            "New dataset labels shape: (10000, 1)\n",
            "New dataset images shape: (2000, 3072)\n",
            "New dataset labels shape: (2000, 1)\n"
          ]
        }
      ]
    },
    {
      "cell_type": "markdown",
      "source": [
        "## **Load and Preprocess Breast Cancer Wisconsin**"
      ],
      "metadata": {
        "id": "hNvgsuMJZ3IZ"
      }
    },
    {
      "cell_type": "code",
      "source": [
        "from ucimlrepo import fetch_ucirepo\n",
        "\n",
        "# fetch dataset\n",
        "breast_cancer_wisconsin_diagnostic = fetch_ucirepo(id=17)\n",
        "\n",
        "# data (as pandas dataframes)\n",
        "X = breast_cancer_wisconsin_diagnostic.data.features\n",
        "y = breast_cancer_wisconsin_diagnostic.data.targets\n",
        "\n",
        "# metadata\n",
        "print(breast_cancer_wisconsin_diagnostic.metadata)\n",
        "\n",
        "# variable information\n",
        "print(breast_cancer_wisconsin_diagnostic.variables)\n",
        "\n",
        "# Split the data into training and testing sets (adjust test_size and random_state as needed)\n",
        "XTrain, XTest, yTrain, yTest = train_test_split(X, y, test_size=0.2, random_state=42)\n",
        "\n",
        "unique, counts = np.unique(yTrain, return_counts=True)\n",
        "print(\"Training Labels: \", dict(zip(unique, counts)))\n",
        "unique, counts = np.unique(yTest, return_counts=True)\n",
        "print(\"Testing Labels: \", dict(zip(unique, counts)))\n",
        "\n",
        "# Get the number of features in the test set\n",
        "numFeatures = XTrain.shape[1]\n",
        "print(\"Number of features in Breast Cancer Wisconsin:\", numFeatures)\n",
        "\n",
        "# Get the number of classes\n",
        "numClasses =2\n",
        "print(\"Number of classes in Breast Cancer Wisconsin:\", numClasses)\n",
        "\n",
        "print(\"Train set shape : \", XTrain.shape)\n",
        "print(\"Labels for the train set shape :\", yTrain.shape)\n",
        "print(\"Test set shape :\", XTest.shape)\n",
        "print(\"Labels for the test set shape :\", yTest.shape)\n",
        "\n",
        "#Convert to float32\n",
        "XTrain, XTest = np.array(XTrain, dtype=np.float32), np.array(XTest, dtype=np.float32)\n",
        "\n",
        "# Change labels of training and test set\n",
        "yTrain = np.where(yTrain  == 'M', -1, 1)\n",
        "yTest = np.where(yTest  == 'M', -1, 1)\n",
        "\n",
        "yTrain, yTest = np.array(yTrain, dtype=np.float32), np.array(yTest, dtype=np.float32)\n",
        "\n",
        "#Normalize to [0,1]\n",
        "XTrain = XTrain/XTrain.max()\n",
        "XTest =  XTest/XTest.max()\n",
        "\n"
      ],
      "metadata": {
        "colab": {
          "base_uri": "https://localhost:8080/"
        },
        "id": "NxtltFCkIE8u",
        "outputId": "fe1e60de-5ae3-45bd-99f5-97c02d48a900"
      },
      "execution_count": null,
      "outputs": [
        {
          "output_type": "stream",
          "name": "stdout",
          "text": [
            "{'uci_id': 17, 'name': 'Breast Cancer Wisconsin (Diagnostic)', 'repository_url': 'https://archive.ics.uci.edu/dataset/17/breast+cancer+wisconsin+diagnostic', 'data_url': 'https://archive.ics.uci.edu/static/public/17/data.csv', 'abstract': 'Diagnostic Wisconsin Breast Cancer Database.', 'area': 'Health and Medicine', 'tasks': ['Classification'], 'characteristics': ['Multivariate'], 'num_instances': 569, 'num_features': 30, 'feature_types': ['Real'], 'demographics': [], 'target_col': ['Diagnosis'], 'index_col': ['ID'], 'has_missing_values': 'no', 'missing_values_symbol': None, 'year_of_dataset_creation': 1993, 'last_updated': 'Fri Nov 03 2023', 'dataset_doi': '10.24432/C5DW2B', 'creators': ['William Wolberg', 'Olvi Mangasarian', 'Nick Street', 'W. Street'], 'intro_paper': {'title': 'Nuclear feature extraction for breast tumor diagnosis', 'authors': 'W. Street, W. Wolberg, O. Mangasarian', 'published_in': 'Electronic imaging', 'year': 1993, 'url': 'https://www.semanticscholar.org/paper/53f0fbb425bc14468eb3bf96b2e1d41ba8087f36', 'doi': '10.1117/12.148698'}, 'additional_info': {'summary': 'Features are computed from a digitized image of a fine needle aspirate (FNA) of a breast mass.  They describe characteristics of the cell nuclei present in the image. A few of the images can be found at http://www.cs.wisc.edu/~street/images/\\r\\n\\r\\nSeparating plane described above was obtained using Multisurface Method-Tree (MSM-T) [K. P. Bennett, \"Decision Tree Construction Via Linear Programming.\" Proceedings of the 4th Midwest Artificial Intelligence and Cognitive Science Society, pp. 97-101, 1992], a classification method which uses linear programming to construct a decision tree.  Relevant features were selected using an exhaustive search in the space of 1-4 features and 1-3 separating planes.\\r\\n\\r\\nThe actual linear program used to obtain the separating plane in the 3-dimensional space is that described in: [K. P. Bennett and O. L. Mangasarian: \"Robust Linear Programming Discrimination of Two Linearly Inseparable Sets\", Optimization Methods and Software 1, 1992, 23-34].\\r\\n\\r\\nThis database is also available through the UW CS ftp server:\\r\\nftp ftp.cs.wisc.edu\\r\\ncd math-prog/cpo-dataset/machine-learn/WDBC/', 'purpose': None, 'funded_by': None, 'instances_represent': None, 'recommended_data_splits': None, 'sensitive_data': None, 'preprocessing_description': None, 'variable_info': '1) ID number\\r\\n2) Diagnosis (M = malignant, B = benign)\\r\\n3-32)\\r\\n\\r\\nTen real-valued features are computed for each cell nucleus:\\r\\n\\r\\n\\ta) radius (mean of distances from center to points on the perimeter)\\r\\n\\tb) texture (standard deviation of gray-scale values)\\r\\n\\tc) perimeter\\r\\n\\td) area\\r\\n\\te) smoothness (local variation in radius lengths)\\r\\n\\tf) compactness (perimeter^2 / area - 1.0)\\r\\n\\tg) concavity (severity of concave portions of the contour)\\r\\n\\th) concave points (number of concave portions of the contour)\\r\\n\\ti) symmetry \\r\\n\\tj) fractal dimension (\"coastline approximation\" - 1)', 'citation': None}}\n",
            "                  name     role         type demographic description units  \\\n",
            "0                   ID       ID  Categorical        None        None  None   \n",
            "1            Diagnosis   Target  Categorical        None        None  None   \n",
            "2              radius1  Feature   Continuous        None        None  None   \n",
            "3             texture1  Feature   Continuous        None        None  None   \n",
            "4           perimeter1  Feature   Continuous        None        None  None   \n",
            "5                area1  Feature   Continuous        None        None  None   \n",
            "6          smoothness1  Feature   Continuous        None        None  None   \n",
            "7         compactness1  Feature   Continuous        None        None  None   \n",
            "8           concavity1  Feature   Continuous        None        None  None   \n",
            "9      concave_points1  Feature   Continuous        None        None  None   \n",
            "10           symmetry1  Feature   Continuous        None        None  None   \n",
            "11  fractal_dimension1  Feature   Continuous        None        None  None   \n",
            "12             radius2  Feature   Continuous        None        None  None   \n",
            "13            texture2  Feature   Continuous        None        None  None   \n",
            "14          perimeter2  Feature   Continuous        None        None  None   \n",
            "15               area2  Feature   Continuous        None        None  None   \n",
            "16         smoothness2  Feature   Continuous        None        None  None   \n",
            "17        compactness2  Feature   Continuous        None        None  None   \n",
            "18          concavity2  Feature   Continuous        None        None  None   \n",
            "19     concave_points2  Feature   Continuous        None        None  None   \n",
            "20           symmetry2  Feature   Continuous        None        None  None   \n",
            "21  fractal_dimension2  Feature   Continuous        None        None  None   \n",
            "22             radius3  Feature   Continuous        None        None  None   \n",
            "23            texture3  Feature   Continuous        None        None  None   \n",
            "24          perimeter3  Feature   Continuous        None        None  None   \n",
            "25               area3  Feature   Continuous        None        None  None   \n",
            "26         smoothness3  Feature   Continuous        None        None  None   \n",
            "27        compactness3  Feature   Continuous        None        None  None   \n",
            "28          concavity3  Feature   Continuous        None        None  None   \n",
            "29     concave_points3  Feature   Continuous        None        None  None   \n",
            "30           symmetry3  Feature   Continuous        None        None  None   \n",
            "31  fractal_dimension3  Feature   Continuous        None        None  None   \n",
            "\n",
            "   missing_values  \n",
            "0              no  \n",
            "1              no  \n",
            "2              no  \n",
            "3              no  \n",
            "4              no  \n",
            "5              no  \n",
            "6              no  \n",
            "7              no  \n",
            "8              no  \n",
            "9              no  \n",
            "10             no  \n",
            "11             no  \n",
            "12             no  \n",
            "13             no  \n",
            "14             no  \n",
            "15             no  \n",
            "16             no  \n",
            "17             no  \n",
            "18             no  \n",
            "19             no  \n",
            "20             no  \n",
            "21             no  \n",
            "22             no  \n",
            "23             no  \n",
            "24             no  \n",
            "25             no  \n",
            "26             no  \n",
            "27             no  \n",
            "28             no  \n",
            "29             no  \n",
            "30             no  \n",
            "31             no  \n",
            "Training Labels:  {'B': 286, 'M': 169}\n",
            "Testing Labels:  {'B': 71, 'M': 43}\n",
            "Number of features in Breast Cancer Wisconsin: 30\n",
            "Number of classes in Breast Cancer Wisconsin: 2\n",
            "Train set shape :  (455, 30)\n",
            "Labels for the train set shape : (455, 1)\n",
            "Test set shape : (114, 30)\n",
            "Labels for the test set shape : (114, 1)\n"
          ]
        }
      ]
    },
    {
      "cell_type": "markdown",
      "source": [
        "## **Perform PCA**"
      ],
      "metadata": {
        "id": "nFOIU8gq9qKv"
      }
    },
    {
      "cell_type": "code",
      "source": [
        "pca = PCA(n_components=0.95).fit(XTrain)\n",
        "XTrainPCA = pca.transform(XTrain)\n",
        "XTestPCA  = pca.transform(XTest)\n",
        "\n",
        "print('Number of features after PCA :',XTrainPCA.shape[1])"
      ],
      "metadata": {
        "colab": {
          "base_uri": "https://localhost:8080/"
        },
        "id": "ZJO28mKBZ9tN",
        "outputId": "949eaaa2-6b59-41ad-d2f2-d12349523031"
      },
      "execution_count": null,
      "outputs": [
        {
          "output_type": "stream",
          "name": "stdout",
          "text": [
            "Number of features after PCA : 184\n"
          ]
        }
      ]
    },
    {
      "cell_type": "markdown",
      "source": [
        "# **K Nearest Neighbor and Nearest Centroid Classification**"
      ],
      "metadata": {
        "id": "Izq1-mSFaPc7"
      }
    },
    {
      "cell_type": "markdown",
      "source": [
        "## **K Nearest Neighbors**"
      ],
      "metadata": {
        "id": "o9ReKIpClzzr"
      }
    },
    {
      "cell_type": "markdown",
      "source": [
        "### **Nearest Neighbor with k=1 neighbor**"
      ],
      "metadata": {
        "id": "cyXWW5ItahBO"
      }
    },
    {
      "cell_type": "code",
      "source": [
        "knn1Neighbor = KNeighborsClassifier(n_neighbors=1, p=2)   # use Euclidean distance metric\n",
        "\n",
        "start = time.time()\n",
        "\n",
        "knn1Neighbor.fit(XTrain, yTrain.ravel())\n",
        "\n",
        "end = time.time()\n",
        "\n",
        "print(\"Training time: {:.3f} seconds\".format(end-start))\n",
        "\n",
        "start = time.time()\n",
        "\n",
        "score = knn1Neighbor.score(XTest,yTest)\n",
        "yPred = knn1Neighbor.predict(XTest)\n",
        "f1 = f1_score(yTest, yPred,average='weighted')  # Calculate F1 score\n",
        "\n",
        "end = time.time()\n",
        "print(\"Testing time: {:.3f} seconds\".format(end-start))\n",
        "\n",
        "print(\"For the 1-NN classifier accuracy is: {:.4f}\".format(score))\n",
        "print(\"For the 1-NN classifier, F1 score is: {:.4f}\".format(f1))"
      ],
      "metadata": {
        "colab": {
          "base_uri": "https://localhost:8080/"
        },
        "id": "SZvHntVBagkP",
        "outputId": "10ceeb17-1ca6-48a8-af63-d4bda44f1c23"
      },
      "execution_count": null,
      "outputs": [
        {
          "output_type": "stream",
          "name": "stdout",
          "text": [
            "Training time: 0.036 seconds\n",
            "Testing time: 22.878 seconds\n",
            "For the 1-NN classifier accuracy is: 0.7600\n",
            "For the 1-NN classifier, F1 score is: 0.7470\n"
          ]
        }
      ]
    },
    {
      "cell_type": "markdown",
      "source": [
        "### **Nearest Neighbor with k=3 neighbors**"
      ],
      "metadata": {
        "id": "0RLTbN-lfcBt"
      }
    },
    {
      "cell_type": "code",
      "source": [
        "knn3Neighbors = KNeighborsClassifier(n_neighbors=3, p=2)      # use Euclidean distance metric\n",
        "\n",
        "start = time.time()\n",
        "\n",
        "knn3Neighbors.fit(XTrain, yTrain.ravel())\n",
        "\n",
        "end = time.time()\n",
        "print(\"Training time: {} seconds\".format(end-start))\n",
        "\n",
        "start = time.time()\n",
        "\n",
        "score = knn3Neighbors.score(XTest, yTest)\n",
        "yPred = knn3Neighbors.predict(XTest)\n",
        "f1 = f1_score(yTest, yPred,average='weighted')  # Calculate F1 score\n",
        "\n",
        "end = time.time()\n",
        "print(\"Testing time: {:.3f} seconds\".format(end-start))\n",
        "\n",
        "print(\"For the 3-NN classifier accuracy is: {:.4f}\".format(score))\n",
        "print(\"For the 3-NN classifier, F1 score is: {:.4f}\".format(f1))"
      ],
      "metadata": {
        "id": "SDDkoiP1fPfY"
      },
      "execution_count": null,
      "outputs": []
    },
    {
      "cell_type": "markdown",
      "source": [
        "## **Nearest Centroid**"
      ],
      "metadata": {
        "id": "BKCP1Ibrl8KC"
      }
    },
    {
      "cell_type": "markdown",
      "source": [
        "### **Nearest Centroid Classifier with Euclidean Distance metric**"
      ],
      "metadata": {
        "id": "RSEiU_DQfsmN"
      }
    },
    {
      "cell_type": "code",
      "source": [
        "nearCentroid = NearestCentroid(metric='euclidean')  # use manhattan distance metric\n",
        "\n",
        "start = time.time()\n",
        "\n",
        "nearCentroid.fit(XTrain, yTrain.ravel())\n",
        "\n",
        "end = time.time()\n",
        "print(\"Training time: {:.3f} seconds\".format(end-start))\n",
        "\n",
        "start = time.time()\n",
        "\n",
        "scoreNearCentroid = nearCentroid.score(XTest,yTest.ravel())\n",
        "yPred = nearCentroid.predict(XTest)\n",
        "f1 = f1_score(yTest, yPred,average='weighted')  # Calculate F1 score\n",
        "\n",
        "end = time.time()\n",
        "print(\"Testing time: {:.3f} seconds\".format(end-start))\n",
        "\n",
        "print(\"For the Nearest Centroid classifier accuracy is: {:.4f}\".format(score))\n",
        "print(\"For the Nearest Centroid classifier, F1 score is: {:.4f}\".format(f1))"
      ],
      "metadata": {
        "id": "LiomdbHmLqkN"
      },
      "execution_count": null,
      "outputs": []
    },
    {
      "cell_type": "markdown",
      "source": [
        "### **Nearest Centroid Classifier with Manhattan Distance metric**"
      ],
      "metadata": {
        "id": "4_vx8PFHlclJ"
      }
    },
    {
      "cell_type": "code",
      "source": [
        "nearCentroid = NearestCentroid(metric='manhattan')  # use manhattan distance metric\n",
        "\n",
        "start = time.time()\n",
        "\n",
        "nearCentroid.fit(XTrain, yTrain.ravel())\n",
        "\n",
        "end = time.time()\n",
        "print(\"Training time: {:.3f} seconds\".format(end-start))\n",
        "\n",
        "start = time.time()\n",
        "\n",
        "scoreNearCentroid = nearCentroid.score(XTest,yTest.ravel())\n",
        "yPred = nearCentroid.predict(XTest)\n",
        "f1 = f1_score(yTest, yPred,average='weighted')  # Calculate F1 score\n",
        "\n",
        "end = time.time()\n",
        "print(\"Testing time: {:.3f} seconds\".format(end-start))\n",
        "\n",
        "print(\"For the Nearest Centroid classifier accuracy is: {:.4f}\".format(score))\n",
        "print(\"For the Nearest Centroid classifier, F1 score is: {:.4f}\".format(f1))"
      ],
      "metadata": {
        "id": "KtpX5IA-llDw"
      },
      "execution_count": null,
      "outputs": []
    },
    {
      "cell_type": "markdown",
      "source": [
        "# **SVM Implementation**"
      ],
      "metadata": {
        "id": "hF3SWDVC9yj7"
      }
    },
    {
      "cell_type": "markdown",
      "source": [
        "## **Kernel functions**"
      ],
      "metadata": {
        "id": "-sqsS6cY988y"
      }
    },
    {
      "cell_type": "code",
      "source": [
        "def linearKernel(x1, x2):\n",
        "    return np.dot(x1, x2.T)\n",
        "\n",
        "def gaussianKernel(x, y, sigma):\n",
        "    return np.exp(-sigma*linalg.norm(x-y)**2)\n",
        "\n",
        "def sigmoidKernel(x, y, alpha, c):\n",
        "    return np.tanh(alpha * np.dot(x, y.T) + c)\n",
        "\n",
        "def polynomialKernel(x, y, degree, constant):\n",
        "    return (np.dot(x, y.T) + constant) ** degree"
      ],
      "metadata": {
        "id": "GajwR1slIWZo"
      },
      "execution_count": null,
      "outputs": []
    },
    {
      "cell_type": "markdown",
      "source": [
        "# **SVM**"
      ],
      "metadata": {
        "id": "Xpr2Huh6-D72"
      }
    },
    {
      "cell_type": "code",
      "source": [
        "class SVM(object):\n",
        "\n",
        "    def __init__(self, kernel=linearKernel, C=None, gamma=None, disp=True ,degree =None , constant=None):\n",
        "        self.kernel = kernel\n",
        "        self.C = C\n",
        "        self.gamma = gamma\n",
        "        self.degree = degree\n",
        "        self.constant = constant\n",
        "        self.disp = disp\n",
        "        if self.C is not None:\n",
        "            self.C = float(self.C)\n",
        "\n",
        "    def fit(self, x_train, y_train):\n",
        "        numSamples, numFeatures = x_train.shape\n",
        "\n",
        "        if self.disp is True:\n",
        "            print('Number of samples:', numSamples)\n",
        "            print('Number of features:', numFeatures)\n",
        "\n",
        "        # Calculate Gram matrix\n",
        "        start = time.time()\n",
        "        K = np.zeros((numSamples, numSamples))\n",
        "        for i in range(numSamples):\n",
        "            for j in range(numSamples):\n",
        "                if self.kernel is linearKernel:\n",
        "                    K[i,j] = self.kernel(x_train[i], x_train[j])\n",
        "                elif self.kernel is gaussianKernel:\n",
        "                    K[i,j] = self.kernel(x_train[i], x_train[j],self.gamma)\n",
        "                else:\n",
        "                   K[i,j] = self.kernel(x_train[i], x_train[j], self.degree, self.constant)\n",
        "        end = time.time()\n",
        "        if self.disp is True:\n",
        "            print(\"Gram matrix elapsed time: {}s\\n\".format(end-start))\n",
        "\n",
        "        # Formulate the matrices of the QP problem\n",
        "        P = matrix(np.outer(y_train,y_train) * K)\n",
        "        q = matrix(np.ones(numSamples) * -1.0)\n",
        "        A = matrix(y_train.astype('double'), (1,numSamples))\n",
        "        b = matrix(0.0)\n",
        "\n",
        "        if self.C is None:\n",
        "            G = matrix(np.diag(np.ones(numSamples) * -1))\n",
        "            h = matrix(np.zeros(numSamples))\n",
        "        else:\n",
        "            G_1 = -1*np.identity(numSamples)\n",
        "            G_2 = np.identity(numSamples)\n",
        "            G = matrix(np.vstack((G_1, G_2)))\n",
        "            h_1 = np.zeros(numSamples)\n",
        "            h_2 = np.ones(numSamples) * self.C\n",
        "            h = matrix(np.hstack((h_1, h_2)))\n",
        "\n",
        "        # Solve QP problem\n",
        "        start = time.time()\n",
        "        solvers.options['show_progress'] = False\n",
        "        solution = solvers.qp(P, q, G, h, A, b, )\n",
        "        end = time.time()\n",
        "\n",
        "        if self.disp is True:\n",
        "            print(\"QP solver elapsed time: {}s\\n\".format(end-start))\n",
        "\n",
        "        # Lagrange multipliers\n",
        "        a = np.ravel(solution['x'])\n",
        "\n",
        "        # Find Support Vectors\n",
        "        svL = (a>0.1)\n",
        "        self.a = a[svL]\n",
        "        self.sv = x_train[svL]\n",
        "        self.sv_y = y_train[svL]\n",
        "\n",
        "        # Find bias\n",
        "        if self.kernel is linearKernel:\n",
        "             self.b = self.sv_y - np.sum(self.kernel(self.sv,self.sv) * self.a * self.sv_y, axis=0)\n",
        "        elif self.kernel is gaussianKernel:\n",
        "             self.b = self.sv_y - np.sum(self.kernel(self.sv,self.sv,self.gamma) * self.a * self.sv_y, axis=0)\n",
        "        else:\n",
        "             self.b = self.sv_y - np.sum(self.kernel(self.sv,self.sv,self.degree,self.constant) * self.a * self.sv_y, axis=0)\n",
        "        self.b = np.sum(self.b) / self.b.size\n",
        "\n",
        "\n",
        "    def predict(self, x_test):\n",
        "        start = time.time()\n",
        "        yPred = np.zeros(len(x_test))\n",
        "        for i in range(len(x_test)):\n",
        "            for a, sv_y, sv in zip(self.a, self.sv_y, self.sv):\n",
        "                if self.kernel is linearKernel:\n",
        "                    yPred[i] += a * sv_y * self.kernel(x_test[i], sv)\n",
        "                elif self.kernel is gaussianKernel:\n",
        "                    yPred[i] += a * sv_y * self.kernel(x_test[i], sv, self.gamma)\n",
        "                else :\n",
        "                    yPred[i] += a * sv_y * self.kernel(x_test[i], sv, self.degree, self.constant)\n",
        "        yPred += self.b\n",
        "        end = time.time()\n",
        "        if self.disp is True:\n",
        "            print(\"Testing elapsed time: {}s\\n\".format(end-start))\n",
        "        return np.sign(yPred).astype(int)"
      ],
      "metadata": {
        "id": "rlj4-7pNaJvI"
      },
      "execution_count": null,
      "outputs": []
    },
    {
      "cell_type": "code",
      "source": [
        "XTrain = XTrainPCA\n",
        "XTest = XTestPCA"
      ],
      "metadata": {
        "id": "I_aLDLLAaU6A"
      },
      "execution_count": null,
      "outputs": []
    },
    {
      "cell_type": "code",
      "source": [
        "# The training subset consists of 2000 samples\n",
        "randInd = np.random.randint(0,len(XTrain),2000)\n",
        "XTrain1 = XTrain[randInd,:]\n",
        "yTrain1 = yTrain[randInd]\n",
        "\n",
        "randInd2 = np.random.randint(0,len(XTrain),1000)\n",
        "XTest2 = XTrain[randInd2,:]\n",
        "yTest2 = yTrain[randInd2]\n",
        "\n",
        "randInd = np.random.randint(0,len(XTest),1000)\n",
        "XTest1 = XTest[randInd,:]\n",
        "yTest1 = yTest[randInd]\n",
        "\n",
        "XTrain = XTrain1\n",
        "yTrain = yTrain1\n",
        "\n",
        "XTest = XTest2\n",
        "yTest = yTest2"
      ],
      "metadata": {
        "id": "58ZdvboQooXs"
      },
      "execution_count": null,
      "outputs": []
    },
    {
      "cell_type": "markdown",
      "source": [
        "## **Train Model with linear Kernel**"
      ],
      "metadata": {
        "id": "sOfPGq8S-0as"
      }
    },
    {
      "cell_type": "code",
      "source": [
        "# Train the model\n",
        "svm = SVM(kernel=linearKernel, C=1,gamma=None ,disp=True , degree=None , constant=None)\n",
        "svm.fit(XTrain,yTrain)\n",
        "\n",
        "# Evaluate on test set\n",
        "yPred = svm.predict(XTest)\n",
        "\n",
        "print('Test set accuracy: ', accuracy_score(yTest,yPred))\n",
        "print(classification_report(yTest, yPred))\n",
        "\n",
        "labels = ['M: Maligant','B: Benign']\n",
        "#Create and display confusion matrix\n",
        "M = confusion_matrix(yTest, yPred)\n",
        "\n",
        "disp = ConfusionMatrixDisplay(confusion_matrix=M, display_labels=labels)\n",
        "\n",
        "disp.plot(cmap=plt.cm.Blues)\n",
        "plt.show\n"
      ],
      "metadata": {
        "colab": {
          "base_uri": "https://localhost:8080/",
          "height": 923
        },
        "id": "j3V-EtK8ajgn",
        "outputId": "181426fa-0c2b-4683-80e9-e093547b8169"
      },
      "execution_count": null,
      "outputs": [
        {
          "output_type": "stream",
          "name": "stdout",
          "text": [
            "Number of samples: 455\n",
            "Number of features: 30\n",
            "Gram matrix elapsed time: 1.2065250873565674s\n",
            "\n",
            "QP solver elapsed time: 0.3557860851287842s\n",
            "\n",
            "Testing elapsed time: 0.4353342056274414s\n",
            "\n",
            "Test set accuracy:  0.8947368421052632\n",
            "              precision    recall  f1-score   support\n",
            "\n",
            "        -1.0       0.79      0.98      0.88        43\n",
            "         1.0       0.98      0.85      0.91        71\n",
            "\n",
            "    accuracy                           0.89       114\n",
            "   macro avg       0.89      0.91      0.89       114\n",
            "weighted avg       0.91      0.89      0.90       114\n",
            "\n",
            "              precision    recall  f1-score   support\n",
            "\n",
            "        -1.0       0.79      0.98      0.88        43\n",
            "         1.0       0.98      0.85      0.91        71\n",
            "\n",
            "    accuracy                           0.89       114\n",
            "   macro avg       0.89      0.91      0.89       114\n",
            "weighted avg       0.91      0.89      0.90       114\n",
            "\n"
          ]
        },
        {
          "output_type": "display_data",
          "data": {
            "text/plain": [
              "<Figure size 640x480 with 2 Axes>"
            ],
            "image/png": "[encoded data removed]"
          },
          "metadata": {}
        }
      ]
    },
    {
      "cell_type": "markdown",
      "source": [
        "## **Train Model with gaussian Kernel**"
      ],
      "metadata": {
        "id": "Ovz6bQhV-eWY"
      }
    },
    {
      "cell_type": "code",
      "source": [
        "# Train the model\n",
        "svm = SVM(kernel=gaussianKernel, C=1,gamma=0.1 ,disp=True , degree=None , constant=None)\n",
        "svm.fit(XTrain,yTrain)\n",
        "\n",
        "# Evaluate on test set\n",
        "yPred = svm.predict(XTest)\n",
        "\n",
        "print('Test set accuracy: ', accuracy_score(yTest,yPred))\n",
        "print(classification_report(yTest, yPred))\n",
        "\n",
        "\n",
        "labels = ['M: Maligant','B: Benign']\n",
        "#Create and display confusion matrix\n",
        "M = confusion_matrix(yTest, yPred)\n",
        "\n",
        "disp = ConfusionMatrixDisplay(confusion_matrix=M, display_labels=labels)\n",
        "\n",
        "disp.plot(cmap=plt.cm.Blues)\n",
        "plt.show\n",
        "\n",
        "#accuracy, precision, recall and f1-score\n",
        "print(classification_report(yTest, yPred))"
      ],
      "metadata": {
        "colab": {
          "base_uri": "https://localhost:8080/",
          "height": 918
        },
        "id": "UDsvoNfN55vi",
        "outputId": "8f31ff33-0f24-45c8-f4e5-2d609b90c7ce"
      },
      "execution_count": null,
      "outputs": [
        {
          "output_type": "stream",
          "name": "stdout",
          "text": [
            "Number of samples: 455\n",
            "Number of features: 30\n",
            "Gram matrix elapsed time: 3.9026596546173096s\n",
            "\n",
            "QP solver elapsed time: 0.5097439289093018s\n",
            "\n",
            "Testing elapsed time: 1.5202796459197998s\n",
            "\n",
            "Test set accuracy:  0.9473684210526315\n",
            "              precision    recall  f1-score   support\n",
            "\n",
            "        -1.0       1.00      0.86      0.92        43\n",
            "         1.0       0.92      1.00      0.96        71\n",
            "\n",
            "    accuracy                           0.95       114\n",
            "   macro avg       0.96      0.93      0.94       114\n",
            "weighted avg       0.95      0.95      0.95       114\n",
            "\n",
            "              precision    recall  f1-score   support\n",
            "\n",
            "        -1.0       1.00      0.86      0.92        43\n",
            "         1.0       0.92      1.00      0.96        71\n",
            "\n",
            "    accuracy                           0.95       114\n",
            "   macro avg       0.96      0.93      0.94       114\n",
            "weighted avg       0.95      0.95      0.95       114\n",
            "\n"
          ]
        },
        {
          "output_type": "display_data",
          "data": {
            "text/plain": [
              "<Figure size 640x480 with 2 Axes>"
            ],
            "image/png": "[encoded data removed]"
          },
          "metadata": {}
        }
      ]
    },
    {
      "cell_type": "markdown",
      "source": [
        "## **Train Model with polynomial Kernel**"
      ],
      "metadata": {
        "id": "5kQU-Xxe_O3P"
      }
    },
    {
      "cell_type": "code",
      "source": [
        "# Train the model\n",
        "svm = SVM(kernel=polynomialKernel, C=1,gamma=None ,disp=True , degree=2 , constant=0)\n",
        "svm.fit(XTrain,yTrain)\n",
        "\n",
        "# Evaluate on test set\n",
        "yPred = svm.predict(XTest)\n",
        "\n",
        "print('Test set accuracy: ', accuracy_score(yTest,yPred))\n",
        "print(classification_report(yTest, yPred))\n",
        "\n",
        "labels = ['M: Maligant','B: Benign']\n",
        "#Create and display confusion matrix\n",
        "M = confusion_matrix(yTest, yPred)\n",
        "\n",
        "disp = ConfusionMatrixDisplay(confusion_matrix=M, display_labels=labels)\n",
        "\n",
        "disp.plot(cmap=plt.cm.Blues)\n",
        "plt.show\n",
        "\n",
        "#accuracy, precision, recall and f1-score\n",
        "print(classification_report(yTest, yPred))"
      ],
      "metadata": {
        "colab": {
          "base_uri": "https://localhost:8080/",
          "height": 917
        },
        "id": "5P4EBrwR-_mc",
        "outputId": "c2514319-86ee-4c09-b3f8-0aff967e823b"
      },
      "execution_count": null,
      "outputs": [
        {
          "output_type": "stream",
          "name": "stdout",
          "text": [
            "Number of samples: 455\n",
            "Number of features: 30\n",
            "Gram matrix elapsed time: 3.012148857116699s\n",
            "\n",
            "QP solver elapsed time: 0.35548996925354004s\n",
            "\n",
            "Testing elapsed time: 0.8083102703094482s\n",
            "\n",
            "Test set accuracy:  0.9385964912280702\n",
            "              precision    recall  f1-score   support\n",
            "\n",
            "        -1.0       0.89      0.95      0.92        43\n",
            "         1.0       0.97      0.93      0.95        71\n",
            "\n",
            "    accuracy                           0.94       114\n",
            "   macro avg       0.93      0.94      0.94       114\n",
            "weighted avg       0.94      0.94      0.94       114\n",
            "\n",
            "              precision    recall  f1-score   support\n",
            "\n",
            "        -1.0       0.89      0.95      0.92        43\n",
            "         1.0       0.97      0.93      0.95        71\n",
            "\n",
            "    accuracy                           0.94       114\n",
            "   macro avg       0.93      0.94      0.94       114\n",
            "weighted avg       0.94      0.94      0.94       114\n",
            "\n"
          ]
        },
        {
          "output_type": "display_data",
          "data": {
            "text/plain": [
              "<Figure size 640x480 with 2 Axes>"
            ],
            "image/png": "[encoded data removed]"
          },
          "metadata": {}
        }
      ]
    },
    {
      "cell_type": "markdown",
      "source": [
        "# **HyperParameter Tuning**"
      ],
      "metadata": {
        "id": "9DA7o8O12Y00"
      }
    },
    {
      "cell_type": "markdown",
      "source": [
        "## **Grid Search using also K fold Cross Validation for robustness**\n",
        "\n"
      ],
      "metadata": {
        "id": "NTdZSDk7B4dV"
      }
    },
    {
      "cell_type": "code",
      "source": [
        "# Concatenating feature sets (XTrain and XTest)\n",
        "X = np.concatenate((XTrain, XTest), axis=0)\n",
        "\n",
        "# Concatenating label sets (yTrain and yTest)\n",
        "y = np.concatenate((yTrain, yTest), axis=0)\n",
        "\n",
        "# Combine features and labels into one array for shuffling\n",
        "XyCombined = np.column_stack((X, y))\n",
        "\n",
        "# Shuffle the combined dataset\n",
        "np.random.shuffle(XyCombined)\n",
        "\n",
        "# Splitting back into X (features) and y (labels)\n",
        "XTrainU = XyCombined[:, :-1]  # Features are all columns except the last one\n",
        "yTrainU = XyCombined[:, -1]   # Labels are the last column\n"
      ],
      "metadata": {
        "id": "a-38ZF-NB220"
      },
      "execution_count": null,
      "outputs": []
    },
    {
      "cell_type": "markdown",
      "source": [
        "### **Grid Search for Linear SVM**"
      ],
      "metadata": {
        "id": "T4YxI55qDDTk"
      }
    },
    {
      "cell_type": "code",
      "source": [
        "def tuningLinearSVM(k,CValues,x_train,y_train):\n",
        "\n",
        "    kfold = StratifiedKFold(n_splits=k,shuffle=True, random_state=42)\n",
        "\n",
        "    accuracyM = np.zeros(k)\n",
        "    bestAccuracy = 0\n",
        "    best_C = None\n",
        "\n",
        "    numModel = 1\n",
        "\n",
        "    for i in CValues:\n",
        "        numFold = 0\n",
        "        # Create model\n",
        "        svm_model = SVM(kernel=linearKernel,C=i,disp=False)\n",
        "        # K fold Cross Validation\n",
        "        for train, test in kfold.split(x_train, y_train):\n",
        "            # Train model\n",
        "            svm_model.fit(x_train[train],y_train[train])\n",
        "\n",
        "            # Evaluate model on validation set\n",
        "            y_pred1 = svm_model.predict(x_train[test])\n",
        "            accuracyM[numFold] = accuracy_score(y_train[test],y_pred1)\n",
        "\n",
        "            numFold += 1\n",
        "\n",
        "        # Mean of accuracy for 5-fold cross-validation of a specific model\n",
        "        acc = np.mean(accuracyM)\n",
        "\n",
        "        print('Model {}:'.format(numModel))\n",
        "        print('C = ', i)\n",
        "        print('Accuracy: {:.4f}'.format(acc))\n",
        "        print('\\n')\n",
        "\n",
        "        numModel += 1\n",
        "\n",
        "        # Choose best model based on its accuracy\n",
        "        if(acc > bestAccuracy):\n",
        "            bestAccuracy = acc\n",
        "            best_C = i\n",
        "\n",
        "    print('Optimal parameters for the model:')\n",
        "    print('C = ', best_C)\n",
        "    print('Accuracy: {:.4f}'.format(bestAccuracy))\n",
        "\n",
        "    return best_C"
      ],
      "metadata": {
        "id": "e4DScxaE19im"
      },
      "execution_count": null,
      "outputs": []
    },
    {
      "cell_type": "code",
      "source": [
        "# Find best C for the linear SVM\n",
        "k = 5\n",
        "CValues = np.array([0.1, 1, 10, 100, 1000 , 10e3 ])\n",
        "best_C = tuningLinearSVM(k,CValues,XTrainU,yTrainU)"
      ],
      "metadata": {
        "id": "NP8B_yZv4KdX"
      },
      "execution_count": null,
      "outputs": []
    },
    {
      "cell_type": "markdown",
      "source": [
        "### **Grid Search for Gaussian SVM**"
      ],
      "metadata": {
        "id": "RQ4ZF9Y2gtyu"
      }
    },
    {
      "cell_type": "code",
      "source": [
        "def tuningGaussianSVM(k,CValues,gammaValues,x_train,y_train):\n",
        "    kfold = StratifiedKFold(n_splits=k,shuffle=True)\n",
        "\n",
        "    accFold = np.zeros(k) # accuracy per fold\n",
        "    bestAccuracy = 0\n",
        "    best_C = None\n",
        "    best_gamma = None\n",
        "\n",
        "    numModel = 1\n",
        "\n",
        "    for i in CValues:\n",
        "        for j in gammaValues:\n",
        "\n",
        "            numFold = 0\n",
        "\n",
        "            # Create model\n",
        "            svm_model = SVM(kernel=gaussianKernel, C=i, gamma=j ,disp=False)\n",
        "\n",
        "            for train, test in kfold.split(x_train, y_train):\n",
        "                # Train model\n",
        "                svm_model.fit(x_train[train],y_train[train])\n",
        "\n",
        "                # Evaluate model on validation set\n",
        "                y_pred = svm_model.predict(x_train[test])\n",
        "                accFold[numFold] = accuracy_score(y_train[test],y_pred)\n",
        "\n",
        "                numFold += 1\n",
        "\n",
        "            # Mean of accuracy for 5-fold cross-validation of a specific model\n",
        "            acc = np.mean(accFold)\n",
        "\n",
        "            print('Model {}:'.format(numModel))\n",
        "            print('C = ', i)\n",
        "            print('gamma = ', j)\n",
        "            print('Accuracy: ', acc)\n",
        "            print('\\n')\n",
        "\n",
        "            numModel += 1\n",
        "\n",
        "            # Choose best model based on its accuracy\n",
        "            if(acc > bestAccuracy):\n",
        "                bestAccuracy = acc\n",
        "                best_C = i\n",
        "                best_gamma = j\n",
        "\n",
        "    print('\\nOptimal parameters for the model:')\n",
        "    print('C = ', best_C)\n",
        "    print('gamma = {:.4f}'.format(best_gamma))\n",
        "    print('Accuracy: {:.4f}'.format(bestAccuracy))\n",
        "\n",
        "    return best_C, best_gamma"
      ],
      "metadata": {
        "id": "N_sXwTUx5-qF"
      },
      "execution_count": null,
      "outputs": []
    },
    {
      "cell_type": "code",
      "source": [
        "# Find best C for the gaussian SVM\n",
        "k = 5\n",
        "CValues = np.array([1, 10, 100, 1000, 10e3])\n",
        "gammaValues = np.array([0.01, 0.1 , 1 , 10 , 100])\n",
        "best_C,best_gamma = tuningGaussianSVM(k,CValues,gammaValues,XTrainU,yTrainU)"
      ],
      "metadata": {
        "id": "tebSKiJ2INz1"
      },
      "execution_count": null,
      "outputs": []
    },
    {
      "cell_type": "markdown",
      "source": [
        "### **Grid Search for Polynomial SVM**"
      ],
      "metadata": {
        "id": "Y2K2zDokg5ZY"
      }
    },
    {
      "cell_type": "code",
      "source": [
        "def tuningPolynomialSVM(k,CValues,degreeValues,constantValues,x_train,y_train):\n",
        "    kfold = StratifiedKFold(n_splits=k,shuffle=True)\n",
        "\n",
        "    accFold = np.zeros(k)\n",
        "    bestAccuracy = 0\n",
        "    best_C = None\n",
        "    best_degree = 0\n",
        "    best_constant = -1\n",
        "\n",
        "    numModel = 1\n",
        "\n",
        "    for k in CValues:\n",
        "       for i in degreeValues:\n",
        "          for j in constantValues:\n",
        "\n",
        "            numFold = 0\n",
        "\n",
        "            # Create model\n",
        "            svm_model = SVM(kernel=polynomialKernel,C=k,gamma=None , degree=i, constant=j ,disp=False)\n",
        "\n",
        "            for train, test in kfold.split(x_train, y_train):\n",
        "                # Train model\n",
        "                svm_model.fit(x_train[train],y_train[train])\n",
        "\n",
        "                # Evaluate model on validation set\n",
        "                y_pred = svm_model.predict(x_train[test])\n",
        "                accFold[numFold] = accuracy_score(y_train[test],y_pred)\n",
        "\n",
        "                numFold += 1\n",
        "\n",
        "            # Mean of accuracy for 5-fold cross-validation of a specific model\n",
        "            acc = np.mean(accFold)\n",
        "\n",
        "            print('Model {}:'.format(model_no))\n",
        "            print('C = ', k)\n",
        "            print('degree = ', i)\n",
        "            print('constant = ', j)\n",
        "            print('Accuracy: ', acc)\n",
        "            print('\\n')\n",
        "\n",
        "            model_no += 1\n",
        "\n",
        "            # Choose best model based on its accuracy\n",
        "            if(acc > bestAccuracy):\n",
        "                bestAccuracy = acc\n",
        "                best_C = k\n",
        "                best_degree = i\n",
        "                best_constant = j\n",
        "\n",
        "\n",
        "    print('\\nOptimal parameters for the model:')\n",
        "    print('C = ', best_C)\n",
        "    print('Degree = ', best_degree)\n",
        "    print('Constant = ',best_constant)\n",
        "    print('Accuracy: ', bestAccuracy)\n",
        "\n",
        "    return best_C, best_degree,best_constant"
      ],
      "metadata": {
        "id": "hNM2mHgX97UY"
      },
      "execution_count": null,
      "outputs": []
    },
    {
      "cell_type": "code",
      "source": [
        "# Find best C and gamma for the gaussian-kernel SVM\n",
        "k = 5\n",
        "CValues = np.array([0.1, 1, 10, 100, 1000])\n",
        "degreeValues = np.array([2, 3, 4])\n",
        "constantValues = np.array([0,0.1,1,2])\n",
        "best_C, best_degree,best_constant = tuningPolynomialSVM(k,CValues,degreeValues,constantValues,XTrainU,yTrainU)"
      ],
      "metadata": {
        "id": "gb11W_0K-atY"
      },
      "execution_count": null,
      "outputs": []
    }
  ]
}